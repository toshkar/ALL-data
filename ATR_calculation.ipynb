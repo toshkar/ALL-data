{
  "nbformat": 4,
  "nbformat_minor": 0,
  "metadata": {
    "colab": {
      "provenance": [],
      "mount_file_id": "1-iefpy0Z50ns6Lm09gM-_9POfThvv4r2",
      "authorship_tag": "ABX9TyPoXbcrRL6VqDm9XVjrTM4J",
      "include_colab_link": true
    },
    "kernelspec": {
      "name": "python3",
      "display_name": "Python 3"
    },
    "language_info": {
      "name": "python"
    }
  },
  "cells": [
    {
      "cell_type": "markdown",
      "metadata": {
        "id": "view-in-github",
        "colab_type": "text"
      },
      "source": [
        "<a href=\"https://colab.research.google.com/github/toshkar/ALL-data/blob/main/ATR_calculation.ipynb\" target=\"_parent\"><img src=\"https://colab.research.google.com/assets/colab-badge.svg\" alt=\"Open In Colab\"/></a>"
      ]
    },
    {
      "cell_type": "code",
      "source": [
        "# Данный код рассчитывает лаги автокорреляционной функции\n",
        "# для последующего расчета коэффициентов формулы для определения ATR следующего дня.\n",
        "# После прогона данных за 1 год по 30 акциям вычислена формула:\n",
        "# ATR (следующего дня) = 0.2773 * ATR (предыдущего дня) + 0.2075 * ATR (дня -2) + 0.1816 * ATR (дня -3) + 0.1669 * ATR (дня -4) + 0.1666 * ATR (дня -5)\n",
        "# Как видно на ATR следующего дня действуют ATR 5 предыдущих дней по убывающей. ATR вчерашнего дня оказывает большее влияние чем ATR 5 дней назад.\n",
        "# ПОЛУЧЕННОЕ ЗНАЧЕНИЕ ATR БУДЕТ САМЫМ ТОЧНЫМ КОТОРОЕ ТОЛЬКО МОЖНО ПОСЧИТАТЬ. Его можно использовать для расчета объема входа в позицию на следующий день."
      ],
      "metadata": {
        "id": "lMX3pH846nXa"
      },
      "execution_count": null,
      "outputs": []
    },
    {
      "cell_type": "code",
      "source": [
        "import pandas as pd\n",
        "from statsmodels.graphics.tsaplots import plot_acf\n",
        "from statsmodels.tsa.stattools import acf\n",
        "\n",
        "# Загрузка данных\n",
        "data = pd.read_csv('https://raw.githubusercontent.com/toshkar/ALL-data/main/LKOH_231211_241206.csv',\n",
        "                   index_col='<DATE>',\n",
        "                   parse_dates=True,\n",
        "                   sep=';')\n",
        "\n",
        "# Расчет ATR = HIGH - LOW\n",
        "data['ATR'] = data['<HIGH>'] - data['<LOW>']\n",
        "\n",
        "# Удаление строк с NaN значениями (если таковые имеются)\n",
        "data.dropna(inplace=True)\n",
        "\n",
        "# Выбор столбца 'ATR'\n",
        "atr_series = data['ATR']\n",
        "\n",
        "# Построение графика автокорреляции\n",
        "plot_acf(atr_series, lags=20)\n",
        "plt.show()\n",
        "\n",
        "# Расчет автокорреляции для первых 20 лагов\n",
        "acf_values = acf(atr_series, nlags=20)\n",
        "\n",
        "# Вывод результатов\n",
        "for lag, value in enumerate(acf_values):\n",
        "    print(f'Лаг {lag}: {value:.4f}')"
      ],
      "metadata": {
        "colab": {
          "base_uri": "https://localhost:8080/",
          "height": 840
        },
        "id": "IDKe0P3ozwgE",
        "outputId": "5362bdab-60f9-4133-a717-8f79772fc486"
      },
      "execution_count": 26,
      "outputs": [
        {
          "output_type": "display_data",
          "data": {
            "text/plain": [
              "<Figure size 640x480 with 1 Axes>"
            ],
            "image/png": "[encoded data removed]"
          },
          "metadata": {}
        },
        {
          "output_type": "stream",
          "name": "stdout",
          "text": [
            "Лаг 0: 1.0000\n",
            "Лаг 1: 0.5115\n",
            "Лаг 2: 0.3090\n",
            "Лаг 3: 0.2947\n",
            "Лаг 4: 0.3017\n",
            "Лаг 5: 0.2867\n",
            "Лаг 6: 0.1882\n",
            "Лаг 7: 0.1909\n",
            "Лаг 8: 0.1633\n",
            "Лаг 9: 0.1126\n",
            "Лаг 10: 0.1477\n",
            "Лаг 11: 0.2066\n",
            "Лаг 12: 0.2206\n",
            "Лаг 13: 0.1805\n",
            "Лаг 14: 0.1443\n",
            "Лаг 15: 0.1697\n",
            "Лаг 16: 0.2241\n",
            "Лаг 17: 0.2123\n",
            "Лаг 18: 0.1779\n",
            "Лаг 19: 0.1146\n",
            "Лаг 20: 0.0825\n"
          ]
        }
      ]
    },
    {
      "cell_type": "code",
      "source": [],
      "metadata": {
        "id": "TaSKbeQ26XQy"
      },
      "execution_count": null,
      "outputs": []
    }
  ]
}